{
  "nbformat": 4,
  "nbformat_minor": 0,
  "metadata": {
    "colab": {
      "provenance": []
    },
    "kernelspec": {
      "name": "python3",
      "display_name": "Python 3"
    },
    "language_info": {
      "name": "python"
    }
  },
  "cells": [
    {
      "cell_type": "markdown",
      "source": [
        "# TP de datos personales\n",
        "\n",
        "## infovis, 1c2024\n",
        "\n",
        "Alumno: Pedro Lopez Guzman"
      ],
      "metadata": {
        "id": "9kbxDPR0mU_j"
      }
    },
    {
      "cell_type": "code",
      "source": [
        "!pip install altair\n",
        "!pip install pandas"
      ],
      "metadata": {
        "id": "rh_RDJD-CxtV",
        "colab": {
          "base_uri": "https://localhost:8080/"
        },
        "outputId": "41f01f45-c910-4709-d694-601f8a029c4d"
      },
      "execution_count": null,
      "outputs": [
        {
          "output_type": "stream",
          "name": "stdout",
          "text": [
            "Requirement already satisfied: altair in /usr/local/lib/python3.10/dist-packages (4.2.2)\n",
            "Requirement already satisfied: entrypoints in /usr/local/lib/python3.10/dist-packages (from altair) (0.4)\n",
            "Requirement already satisfied: jinja2 in /usr/local/lib/python3.10/dist-packages (from altair) (3.1.3)\n",
            "Requirement already satisfied: jsonschema>=3.0 in /usr/local/lib/python3.10/dist-packages (from altair) (4.19.2)\n",
            "Requirement already satisfied: numpy in /usr/local/lib/python3.10/dist-packages (from altair) (1.25.2)\n",
            "Requirement already satisfied: pandas>=0.18 in /usr/local/lib/python3.10/dist-packages (from altair) (2.0.3)\n",
            "Requirement already satisfied: toolz in /usr/local/lib/python3.10/dist-packages (from altair) (0.12.1)\n",
            "Requirement already satisfied: attrs>=22.2.0 in /usr/local/lib/python3.10/dist-packages (from jsonschema>=3.0->altair) (23.2.0)\n",
            "Requirement already satisfied: jsonschema-specifications>=2023.03.6 in /usr/local/lib/python3.10/dist-packages (from jsonschema>=3.0->altair) (2023.12.1)\n",
            "Requirement already satisfied: referencing>=0.28.4 in /usr/local/lib/python3.10/dist-packages (from jsonschema>=3.0->altair) (0.34.0)\n",
            "Requirement already satisfied: rpds-py>=0.7.1 in /usr/local/lib/python3.10/dist-packages (from jsonschema>=3.0->altair) (0.18.0)\n",
            "Requirement already satisfied: python-dateutil>=2.8.2 in /usr/local/lib/python3.10/dist-packages (from pandas>=0.18->altair) (2.8.2)\n",
            "Requirement already satisfied: pytz>=2020.1 in /usr/local/lib/python3.10/dist-packages (from pandas>=0.18->altair) (2023.4)\n",
            "Requirement already satisfied: tzdata>=2022.1 in /usr/local/lib/python3.10/dist-packages (from pandas>=0.18->altair) (2024.1)\n",
            "Requirement already satisfied: MarkupSafe>=2.0 in /usr/local/lib/python3.10/dist-packages (from jinja2->altair) (2.1.5)\n",
            "Requirement already satisfied: six>=1.5 in /usr/local/lib/python3.10/dist-packages (from python-dateutil>=2.8.2->pandas>=0.18->altair) (1.16.0)\n"
          ]
        }
      ]
    },
    {
      "cell_type": "code",
      "source": [
        "!pip install pyvis"
      ],
      "metadata": {
        "id": "sRtgFHg5OE0X"
      },
      "execution_count": null,
      "outputs": []
    },
    {
      "cell_type": "code",
      "source": [
        "!wget \"https://raw.githubusercontent.com/Pedro-UwU/infovis/main/TP1/data/owned_games_with_tags.json\""
      ],
      "metadata": {
        "id": "znwjqzhYn2Mm"
      },
      "execution_count": null,
      "outputs": []
    },
    {
      "cell_type": "code",
      "source": [
        "import altair as alt\n",
        "import pandas as pd\n",
        "import json\n",
        "from pprint import pprint\n",
        "\n",
        "games = pd.read_json('owned_games_with_tags.json')"
      ],
      "metadata": {
        "id": "bZOeidcRGDyq"
      },
      "execution_count": null,
      "outputs": []
    },
    {
      "cell_type": "code",
      "source": [
        "# Tiempo total de juego por juego\n",
        "\n",
        "chart = alt.Chart(games).transform_calculate(\n",
        "    hours = \"datum.playtime_forever / 60\"\n",
        ").encode(\n",
        "    x = alt.X(\"hours:Q\", title=\"Tiempo (hours)\"),\n",
        "    y = alt.Y(\"name\", sort ='-x', title=\"Juego\"),\n",
        "    text = alt.Text(\"hours:Q\", format=\".2f\"),\n",
        "    tooltip=alt.Tooltip(\"hours:Q\", format=\".2f\")\n",
        ").transform_window(\n",
        "    rank = 'rank(playtime_forever)',\n",
        "    sort = [alt.SortField('playtime_forever', order='descending')]\n",
        ").transform_filter(\n",
        "    (alt.datum.rank < 20)\n",
        ")\n",
        "chart = chart.mark_bar() + chart.mark_text(align='left', dx=10)\n",
        "chart.configure_axis(\n",
        "    grid=False\n",
        ").configure_view(\n",
        "    stroke=None\n",
        ")"
      ],
      "metadata": {
        "id": "mMLUB_gZNgZ-"
      },
      "execution_count": null,
      "outputs": []
    },
    {
      "cell_type": "code",
      "source": [
        "# Porcentaje de juegos que jugué vs no jugué\n",
        "\n",
        "pie_chart = alt.Chart(games).transform_calculate(\n",
        "    playtime_cat = \"datum.playtime_forever > 0 ? 'Jugado' : 'Nunca Jugado'\"\n",
        ").transform_aggregate(\n",
        "    count=\"count()\",\n",
        "    groupby=[\"playtime_cat\"]\n",
        ").encode(\n",
        "    alt.Theta(\"count:Q\"),\n",
        "    alt.Color(\"playtime_cat:N\", legend=alt.Legend(title=\"He jugado?\")),\n",
        "    tooltip=['playtime_category:N', 'count:Q']\n",
        ")\n",
        "\n",
        "pie = pie_chart.mark_arc(radius=200)\n",
        "pie.configure_axis(\n",
        "    grid=False\n",
        ").configure_view(\n",
        "    stroke=None\n",
        ")"
      ],
      "metadata": {
        "id": "oqOzi48EaqgN"
      },
      "execution_count": null,
      "outputs": []
    },
    {
      "cell_type": "code",
      "source": [
        "# Crear un nuevo dataframe con las categorías\n",
        "game_tags_list = list()\n",
        "for _, row in games.iterrows():\n",
        "  game_name = row['name']\n",
        "  game_playtime = row['playtime_forever']\n",
        "  tags = row['tags']\n",
        "  if len(tags) == 0:\n",
        "    continue\n",
        "  for t in tags:\n",
        "    game_tags_list.append({\"Name\": game_name, \"Playtime\": game_playtime, \"tag\": t})\n",
        "\n",
        "games_tags_df = pd.DataFrame(game_tags_list)\n",
        "print(games_tags_df.head())"
      ],
      "metadata": {
        "id": "OF51a-HEepyb"
      },
      "execution_count": null,
      "outputs": []
    },
    {
      "cell_type": "code",
      "source": [
        "# Graficar las tags mas comunes\n",
        "common_tags = alt.Chart(games_tags_df).transform_aggregate(\n",
        "    Count=\"count()\",\n",
        "    groupby=[\"tag\"]\n",
        ").encode(\n",
        "    x=alt.X(\"Count:Q\"),\n",
        "    y=alt.Y(\"tag:N\", sort='-x'),\n",
        "    tooltip=\"Count:Q\"\n",
        ").transform_window(\n",
        "    rank=\"rank(Count:Q)\",\n",
        "    sort=[alt.SortField(\"Count:Q\", order=\"descending\")]\n",
        ").transform_filter(\n",
        "    (alt.datum.Count > 20)\n",
        ")\n",
        "\n",
        "common_tags.mark_bar()"
      ],
      "metadata": {
        "id": "I5T21ynuh08S"
      },
      "execution_count": null,
      "outputs": []
    },
    {
      "cell_type": "code",
      "source": [
        "# Grafico de red usando pyvis\n",
        "from pyvis.network import Network\n",
        "\n",
        "\n",
        "cum_tags = games_tags_df.groupby(\"tag\")['Playtime'].sum().reset_index()\n",
        "cum_games = games_tags_df.groupby(\"Name\")['Playtime'].sum().reset_index()\n",
        "cum_tags = cum_tags[cum_tags['Playtime'] > 0]\n",
        "cum_games = cum_games[cum_games['Playtime'] > 0]\n",
        "\n",
        "net = Network(width=\"1000px\")\n",
        "\n",
        "for _, game in cum_games.iterrows():\n",
        "  net.add_node(game['Name'], title=game['Name'])\n"
      ],
      "metadata": {
        "id": "QFJNNYvXltgV"
      },
      "execution_count": null,
      "outputs": []
    }
  ]
}